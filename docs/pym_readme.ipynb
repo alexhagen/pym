{
 "cells": [
  {
   "cell_type": "code",
   "execution_count": 1,
   "metadata": {
    "collapsed": true
   },
   "outputs": [],
   "source": [
    "from pym import func as pym"
   ]
  },
  {
   "cell_type": "markdown",
   "metadata": {},
   "source": [
    "# pym - A math and numerical methods library in python\n",
    "\n",
    "Last Updated on 11/12/15\n",
    "\n",
    "Written by [Alex Hagen](http://alexhagen.github.io)\n",
    "\n",
    "Hosted at [github.com/alexhagen/pym](http://github.com/alexhagen/pym)\n",
    "\n",
    "Documentation at [alexhagen.github.io/pym/docs](docs/)\n",
    "\n",
    "`pym` (pronounced <i>pim</i>) is a pretty simple numerical methods library for\n",
    "python.  It can be used to do interpolation, extrapolation, integration,\n",
    "normalization, etc.  In general, it is a replication of Brian Bradie's book\n",
    "*A Friendly Introduction to Numerical Methods* in code.  Usage should be fairly\n",
    "simple, with the documentation [documentation](docs/) providing a practical\n",
    "guide to using the library."
   ]
  },
  {
   "cell_type": "markdown",
   "metadata": {},
   "source": [
    "## Pym Demonstrations and Screenshots\n",
    "\n",
    "### Installation\n",
    "\n",
    "To install `pym`, all we have to do is install `numpy`, `scipy`, and\n",
    "`matplotlib`, then download `pym` to our code directory (or wherever, really).\n",
    "To do this, we can use\n",
    "\n",
    "```bash\n",
    "\n",
    "$ pip install numpy\n",
    "$ pip install scipy\n",
    "$ pip install matplotlib\n",
    "$ pip install colours\n",
    "$ cd ~/code\n",
    "$ git clone https://github.com/alexhagen/pym.git\n",
    "\n",
    "```\n",
    "\n",
    "and then, we can use the library within any script by using"
   ]
  },
  {
   "cell_type": "markdown",
   "metadata": {},
   "source": [
    "### Curve creation and graphing using [pyg](../pyg/)\n",
    "\n",
    "The basis of `pym` is the `curve` class, which holds x and y data, as well as\n",
    "its associated error.  We can create a function with a sinusoid in it by using\n",
    "the following code"
   ]
  },
  {
   "cell_type": "code",
   "execution_count": 7,
   "metadata": {
    "collapsed": false
   },
   "outputs": [
    {
     "data": {
      "text/html": [
       "\n",
       "                <div class='figure' name='some caption' style='align: center; margin-left: auto; margin-right: auto;'>\n",
       "                    <img style='margin: auto; max-width:800px; width:1250.000000px; height: auto;' src='_static/curve_plotting.svg?1444974869' />\n",
       "                    <div style='margin: auto; text-align: center;' class='figurecaption'><b>Figure 5:</b> some caption</div>\n",
       "                </div>\n",
       "            "
      ],
      "text/plain": [
       "<IPython.core.display.HTML object>"
      ]
     },
     "metadata": {},
     "output_type": "display_data"
    }
   ],
   "source": [
    "from pym import func as pym\n",
    "import numpy as np\n",
    "\n",
    "# use numpy to create some trigonometric functions across two periods\n",
    "x_data = np.linspace(0., 4. * np.pi, 1000)\n",
    "sin_data = np.sin(x_data)\n",
    "cos_data = np.cos(x_data)\n",
    "\n",
    "# define these data as ahm.curves to expose the interface to the numerical\n",
    "# methods\n",
    "sin = pym.curve(x_data, sin_data, name='$\\sin \\left( x \\right)$')\n",
    "cos = pym.curve(x_data, cos_data, name='$\\cos \\left( x \\right)$')\n",
    "\n",
    "# Plot these using the function pym.plot which returns a pyg.ah2d object\n",
    "plot = sin.plot(linecolor='#285668', linestyle='-')\n",
    "plot = cos.plot(linecolor='#FC8D82', linestyle='-', addto=plot)\n",
    "\n",
    "# make it pretty with some shading, lines, changing limits, and labels\n",
    "plot.fill_between(x_data, sin_data, cos_data, fc='#ccccff')\n",
    "plot.lines_on()\n",
    "plot.markers_off()\n",
    "plot.ylim(-1.1, 1.1)\n",
    "plot.xlim(0., 4. * np.pi)\n",
    "plot.xlabel('$x$')\n",
    "plot.ylabel('$y$')\n",
    "\n",
    "# export it to a websvg (which doesnt convert text to paths)\n",
    "plot.export('_static/curve_plotting', sizes=['2'])\n",
    "plot.show('some caption')"
   ]
  },
  {
   "cell_type": "markdown",
   "metadata": {},
   "source": [
    "### Integration and normalization\n",
    "\n",
    "One of the useful options of `pym` is the ability to normalize a function,\n",
    "either according to its maximum, or according to its integral.  The following is\n",
    "and example of this integration, showing that after integration, we attain an\n",
    "integral of 1.0."
   ]
  },
  {
   "cell_type": "code",
   "execution_count": 6,
   "metadata": {
    "collapsed": false
   },
   "outputs": [
    {
     "data": {
      "text/html": [
       "\n",
       "                <div class='figure' name='some caption' style='align: center; margin-left: auto; margin-right: auto;'>\n",
       "                    <img style='margin: auto; max-width:800px; width:1250.000000px; height: auto;' src='_static/int_norm.svg?1580330937' />\n",
       "                    <div style='margin: auto; text-align: center;' class='figurecaption'><b>Figure 4:</b> some caption</div>\n",
       "                </div>\n",
       "            "
      ],
      "text/plain": [
       "<IPython.core.display.HTML object>"
      ]
     },
     "metadata": {},
     "output_type": "display_data"
    }
   ],
   "source": [
    "# use numpy to create a monotonic function to play with\n",
    "x_data = np.linspace(0., 2., 1000)\n",
    "y_data = np.power(x_data, 2)\n",
    "\n",
    "# define these data as ahm.curves to expose the interface to the numerical\n",
    "# methods\n",
    "y = pym.curve(x_data, y_data, name='$x^{2}$')\n",
    "\n",
    "# Plot the unmodified function, shade the integral, and add a pointer with the\n",
    "# integral value\n",
    "plot = y.plot(linecolor='#285668', linestyle='-')\n",
    "plot.fill_between(x_data, np.zeros_like(y_data), y_data, fc='#ccccff')\n",
    "plot.add_data_pointer(1.5, point=1.5,\n",
    "                      string=r'$\\int f \\left( x \\right) dx = %.2f$' %\n",
    "                      (y.integrate(0, 2)), place=(0.5, 3.))\n",
    "plot.lines_on()\n",
    "plot.markers_off()\n",
    "\n",
    "# now normalize the curve with respect to the integral\n",
    "y.normalize('int')\n",
    "# Plot the modified function, shade the integral, and add a pointer with the\n",
    "# integral value\n",
    "plot = y.plot(addto=plot, linecolor='#FC8D82', linestyle='-')\n",
    "plot.fill_between(x_data, np.zeros_like(y.x), y.y, fc='#ffdddd')\n",
    "plot.add_data_pointer(1.25, point=0.125,\n",
    "                      string=r'$\\int f_{norm} \\left( x \\right) dx = %.2f$' %\n",
    "                      (y.integrate(0, 2)), place=(0.25, 1.5))\n",
    "plot.lines_on()\n",
    "plot.markers_off()\n",
    "plot.xlabel('$x$')\n",
    "plot.ylabel('$y$')\n",
    "plot.ylim(0.0, 4.0)\n",
    "plot.xlim(0.0, 2.0)\n",
    "\n",
    "# export it to a websvg (which doesnt convert text to paths)\n",
    "plot.export('_static/int_norm')\n",
    "plot.show('some caption')"
   ]
  },
  {
   "cell_type": "markdown",
   "metadata": {},
   "source": [
    "### Curve arithmetic\n",
    "\n",
    "Curve arithmetic (as in adding curves like `curve1 + curve2` or multiplying\n",
    "them with `curve1 * curve2`) is coming as soon as I can code it (or need it and\n",
    "so have to code it)."
   ]
  },
  {
   "cell_type": "code",
   "execution_count": 12,
   "metadata": {
    "collapsed": false
   },
   "outputs": [
    {
     "data": {
      "text/html": [
       "\n",
       "                <div class='figure' name='some caption' style='align: center; margin-left: auto; margin-right: auto;'>\n",
       "                    <img style='margin: auto; max-width:800px; width:1250.000000px; height: auto;' src='_static/identity.svg?1280527358' />\n",
       "                    <div style='margin: auto; text-align: center;' class='figurecaption'><b>Figure 10:</b> some caption</div>\n",
       "                </div>\n",
       "            "
      ],
      "text/plain": [
       "<IPython.core.display.HTML object>"
      ]
     },
     "metadata": {},
     "output_type": "display_data"
    }
   ],
   "source": [
    "one = sin * sin + cos * cos\n",
    "one.name = 'identity'\n",
    "sin2 = sin * sin\n",
    "cos2 = cos * cos\n",
    "\n",
    "plot = one.plot(linestyle='-', linecolor='#000000')\n",
    "plot = sin2.plot(linestyle='-', linecolor='#777777', addto=plot)\n",
    "plot = cos2.plot(linestyle='-', linecolor='#999999', addto=plot)\n",
    "\n",
    "plot.fill_between(sin2.x, np.zeros_like(sin2.y), sin2.y, fc='#777777')\n",
    "plot.fill_between(cos2.x, cos2.y, np.ones_like(cos2.y), fc='#999999')\n",
    "\n",
    "plot.markers_off()\n",
    "plot.lines_on()\n",
    "\n",
    "plot.export('_static/identity')\n",
    "plot.show('some caption')"
   ]
  },
  {
   "cell_type": "code",
   "execution_count": null,
   "metadata": {
    "collapsed": true
   },
   "outputs": [],
   "source": []
  }
 ],
 "metadata": {
  "hide_input": false,
  "kernelspec": {
   "display_name": "Python 2",
   "language": "python",
   "name": "python2"
  },
  "language_info": {
   "codemirror_mode": {
    "name": "ipython",
    "version": 2
   },
   "file_extension": ".py",
   "mimetype": "text/x-python",
   "name": "python",
   "nbconvert_exporter": "python",
   "pygments_lexer": "ipython2",
   "version": "2.7.12"
  },
  "latex_envs": {
   "LaTeX_envs_menu_present": true,
   "autocomplete": true,
   "bibliofile": "bibs/dissertation.bib",
   "cite_by": "apalike",
   "current_citInitial": 1,
   "eqLabelWithNumbers": true,
   "eqNumInitial": 1,
   "hotkeys": {
    "equation": "Ctrl-E",
    "itemize": "Ctrl-I"
   },
   "labels_anchors": false,
   "latex_user_defs": false,
   "report_style_numbering": false,
   "user_envs_cfg": false
  }
 },
 "nbformat": 4,
 "nbformat_minor": 2
}
