{
 "cells": [
  {
   "cell_type": "markdown",
   "metadata": {
    "deletable": true,
    "editable": true
   },
   "source": [
    "# pym - A math and numerical methods library in python\n",
    "\n",
    "Last Updated on 11/12/15\n",
    "\n",
    "Written by [Alex Hagen](http://alexhagen.github.io)\n",
    "\n",
    "Hosted at [github.com/alexhagen/pym](http://github.com/alexhagen/pym)\n",
    "\n",
    "Documentation at [alexhagen.github.io/pym/docs](docs/)\n",
    "\n",
    "`pym` (pronounced <i>pim</i>) is a pretty simple numerical methods library for\n",
    "python.  It can be used to do interpolation, extrapolation, integration,\n",
    "normalization, etc.  In general, it is a replication of Brian Bradie's book\n",
    "*A Friendly Introduction to Numerical Methods* in code.  Usage should be fairly\n",
    "simple, with the documentation [documentation](docs/) providing a practical\n",
    "guide to using the library."
   ]
  },
  {
   "cell_type": "markdown",
   "metadata": {
    "deletable": true,
    "editable": true
   },
   "source": [
    "## Pym Demonstrations and Screenshots\n",
    "\n",
    "### Installation\n",
    "\n",
    "To install `pym`, all we have to do is install `numpy`, `scipy`, and\n",
    "`matplotlib`, then download `pym` to our code directory (or wherever, really).\n",
    "To do this, we can use\n",
    "\n",
    "```bash\n",
    "\n",
    "$ pip install numpy\n",
    "$ pip install scipy\n",
    "$ pip install matplotlib\n",
    "$ pip install colours\n",
    "$ cd ~/code\n",
    "$ git clone https://github.com/alexhagen/pym.git\n",
    "\n",
    "```\n",
    "\n",
    "and then, we can use the library within any script by using"
   ]
  },
  {
   "cell_type": "code",
   "execution_count": 1,
   "metadata": {
    "collapsed": true,
    "deletable": true,
    "editable": true
   },
   "outputs": [],
   "source": [
    "from pym import func as pym"
   ]
  },
  {
   "cell_type": "markdown",
   "metadata": {
    "deletable": true,
    "editable": true
   },
   "source": [
    "### Curve creation and graphing\n",
    "\n",
    "The basis of `pym` is the `curve` class, which holds x and y data, as well as\n",
    "its associated error.  We can create a function with a sinusoid in it by using\n",
    "the following code"
   ]
  },
  {
   "cell_type": "code",
   "execution_count": 48,
   "metadata": {
    "collapsed": false,
    "deletable": true,
    "editable": true
   },
   "outputs": [
    {
     "data": {
      "text/html": [
       "\n",
       "                <div class='pygfigure' name='A pretty chart from data made for a pym curve' style='align: center; margin-left: auto; margin-right: auto;'>\n",
       "                    <img style='margin: auto; max-width:800px; width:1250.000000px; height: auto;' src='_static/curve_plotting.svg?1263733609' />\n",
       "                    <div style='margin: auto; text-align: center;' class='figurecaption'><b>Figure 21:</b> A pretty chart from data made for a pym curve</div>\n",
       "                </div>\n",
       "            "
      ],
      "text/plain": [
       "<IPython.core.display.HTML object>"
      ]
     },
     "metadata": {},
     "output_type": "display_data"
    }
   ],
   "source": [
    "from pym import func as pym\n",
    "import numpy as np\n",
    "\n",
    "# use numpy to create some trigonometric functions across two periods\n",
    "x_data = np.linspace(0., 4. * np.pi, 1000)\n",
    "sin_data = np.sin(x_data)\n",
    "cos_data = np.cos(x_data)\n",
    "\n",
    "# define these data as ahm.curves to expose the interface to the numerical\n",
    "# methods\n",
    "sin = pym.curve(x_data, sin_data, name='$\\sin \\left( x \\right)$')\n",
    "cos = pym.curve(x_data, cos_data, name='$\\cos \\left( x \\right)$')\n",
    "\n",
    "# Plot these using the function pym.plot which returns a pyg.ah2d object\n",
    "plot = sin.plot(linecolor='#285668', linestyle='-')\n",
    "plot = cos.plot(linecolor='#FC8D82', linestyle='-', addto=plot)\n",
    "\n",
    "# make it pretty with some shading, lines, changing limits, and labels\n",
    "plot.fill_between(sin.x, np.zeros_like(sin.y), sin.y, fc='#ccccff')\n",
    "plot.fill_between(cos.x, np.zeros_like(cos.y), cos.y, fc='#ffcccc')\n",
    "plot.lines_on()\n",
    "plot.markers_off()\n",
    "plot.ylim(-1.1, 1.1)\n",
    "plot.xlim(0., 4. * np.pi)\n",
    "plot.xlabel(r'x-coordinate ($x$) [$cm$]')\n",
    "plot.ylabel(r'y-coordinate ($y$) [$cm$]')\n",
    "\n",
    "# export it to a websvg (which doesnt convert text to paths)\n",
    "plot.export('_static/curve_plotting', ratio='silver')\n",
    "plot.show('A pretty chart from data made for a pym curve')"
   ]
  },
  {
   "cell_type": "markdown",
   "metadata": {
    "deletable": true,
    "editable": true
   },
   "source": [
    "### Integration and normalization\n",
    "\n",
    "One of the useful options of `pym` is the ability to normalize a function,\n",
    "either according to its maximum, or according to its integral.  The following is\n",
    "and example of this integration, showing that after integration, we attain an\n",
    "integral of 1.0."
   ]
  },
  {
   "cell_type": "code",
   "execution_count": 47,
   "metadata": {
    "collapsed": false,
    "deletable": true,
    "editable": true
   },
   "outputs": [
    {
     "data": {
      "text/html": [
       "\n",
       "                <div class='pygfigure' name='Normalized curves have a total integral of 1.0' style='align: center; margin-left: auto; margin-right: auto;'>\n",
       "                    <img style='margin: auto; max-width:800px; width:1250.000000px; height: auto;' src='_static/int_norm.svg?1693242343' />\n",
       "                    <div style='margin: auto; text-align: center;' class='figurecaption'><b>Figure 20:</b> Normalized curves have a total integral of 1.0</div>\n",
       "                </div>\n",
       "            "
      ],
      "text/plain": [
       "<IPython.core.display.HTML object>"
      ]
     },
     "metadata": {},
     "output_type": "display_data"
    }
   ],
   "source": [
    "# use numpy to create a monotonic function to play with\n",
    "x_data = np.linspace(0., 2., 1000)\n",
    "y_data = np.power(x_data, 2)\n",
    "\n",
    "# define these data as ahm.curves to expose the interface to the numerical\n",
    "# methods\n",
    "y = pym.curve(x_data, y_data, name='$x^{2}$')\n",
    "\n",
    "# Plot the unmodified function, shade the integral, and add a pointer with the\n",
    "# integral value\n",
    "plot = y.plot(linecolor='#285668', linestyle='-')\n",
    "plot.fill_between(x_data, np.zeros_like(y_data), y_data, fc='#ccccff')\n",
    "plot.add_data_pointer(1.5, point=1.5,\n",
    "                      string=r'$\\int f \\left( x \\right) dx = %.2f$' %\n",
    "                      (y.integrate(0, 2)), place=(0.5, 3.))\n",
    "plot.lines_on()\n",
    "plot.markers_off()\n",
    "\n",
    "# now normalize the curve with respect to the integral\n",
    "y.normalize('int')\n",
    "# Plot the modified function, shade the integral, and add a pointer with the\n",
    "# integral value\n",
    "plot = y.plot(addto=plot, linecolor='#FC8D82', linestyle='-')\n",
    "plot.fill_between(x_data, np.zeros_like(y.x), y.y, fc='#ffdddd')\n",
    "plot.add_data_pointer(1.25, point=0.125,\n",
    "                      string=r'$\\int f_{norm} \\left( x \\right) dx = %.2f$' %\n",
    "                      (y.integrate(0, 2)), place=(0.25, 1.5))\n",
    "plot.lines_on()\n",
    "plot.markers_off()\n",
    "plot.xlabel(r'x-coordinate ($x$) [$cm$]')\n",
    "plot.ylabel(r'y-coordinate ($y$) [$cm$]')\n",
    "plot.ylim(0.0, 4.0)\n",
    "plot.xlim(0.0, 2.0)\n",
    "\n",
    "# export it to a websvg (which doesnt convert text to paths)\n",
    "plot.export('_static/int_norm', ratio='silver')\n",
    "plot.show('Normalized curves have a total integral of 1.0')"
   ]
  },
  {
   "cell_type": "markdown",
   "metadata": {
    "deletable": true,
    "editable": true
   },
   "source": [
    "### Curve arithmetic\n",
    "\n",
    "``pym`` makes it easy to do simple artimetic operations on curves.  The arithmetic all happens after copying the curve, so you don't lose anything in place.  The example below illustrates the common identity $$\\sin^{2}\\left( \\theta \\right) + \\cos^{2}\\left( \\theta \\right) = 1$$."
   ]
  },
  {
   "cell_type": "code",
   "execution_count": 46,
   "metadata": {
    "collapsed": false,
    "deletable": true,
    "editable": true
   },
   "outputs": [
    {
     "data": {
      "text/html": [
       "\n",
       "                <div class='pygfigure' name='Trigonometric identity and its contributions from $\\cos^{2}$ and $\\sin^{2}$' style='align: center; margin-left: auto; margin-right: auto;'>\n",
       "                    <img style='margin: auto; max-width:800px; width:1250.000000px; height: auto;' src='_static/identity.svg?1732465382' />\n",
       "                    <div style='margin: auto; text-align: center;' class='figurecaption'><b>Figure 19:</b> Trigonometric identity and its contributions from $\\cos^{2}$ and $\\sin^{2}$</div>\n",
       "                </div>\n",
       "            "
      ],
      "text/plain": [
       "<IPython.core.display.HTML object>"
      ]
     },
     "metadata": {},
     "output_type": "display_data"
    }
   ],
   "source": [
    "one = sin * sin + cos * cos\n",
    "one.name = r'$\\sin^{2}\\left( \\theta \\right) + \\cos^{2}\\left( \\theta \\right) = 1$'\n",
    "sin2 = sin * sin\n",
    "cos2 = cos * cos\n",
    "\n",
    "plot = one.plot(linestyle='-', linecolor='#999999')\n",
    "plot = sin2.plot(linestyle='--', linecolor='#FC8D82', addto=plot)\n",
    "\n",
    "plot.fill_between(sin2.x, np.zeros_like(sin2.y), sin2.y, fc='#ffcccc', name=r'$\\sin^{2} \\left( \\theta \\right)')\n",
    "plot.fill_between(cos2.x, sin2.y, sin2.y + cos2.y, fc='#ccccff', name=r'$\\sin^{2} \\left( \\theta \\right)')\n",
    "\n",
    "plot.markers_off()\n",
    "plot.lines_on()\n",
    "\n",
    "plot.xlim(0, 12)\n",
    "plot.ylim(0, 1.1)\n",
    "#plot.legend(loc=1)\n",
    "\n",
    "plot.export('_static/identity', ratio='silver')\n",
    "plot.show('Trigonometric identity and its contributions from $\\cos^{2}$ and $\\sin^{2}$')"
   ]
  },
  {
   "cell_type": "markdown",
   "metadata": {
    "collapsed": true,
    "deletable": true,
    "editable": true
   },
   "source": [
    "## Subclassing\n",
    "\n",
    "``pym`` is easily subclassable.  I personally like to define classes for data I download from instruments and write a load script and add some properties to the object. The following example shows elevation plotting for the Pacific Crest Trail using the wonderful [postholer.com](www.postholer.com)."
   ]
  },
  {
   "cell_type": "code",
   "execution_count": 42,
   "metadata": {
    "collapsed": false,
    "deletable": true,
    "editable": true,
    "scrolled": true
   },
   "outputs": [
    {
     "data": {
      "text/html": [
       "\n",
       "                <div class='pygfigure' name='First section elevation of several long distance hiking trails' style='align: center; margin-left: auto; margin-right: auto;'>\n",
       "                    <img style='margin: auto; max-width:800px; width:1250.000000px; height: auto;' src='_static/trail_elevations.svg?1766971875' />\n",
       "                    <div style='margin: auto; text-align: center;' class='figurecaption'><b>Figure 16:</b> First section elevation of several long distance hiking trails</div>\n",
       "                </div>\n",
       "            "
      ],
      "text/plain": [
       "<IPython.core.display.HTML object>"
      ]
     },
     "metadata": {},
     "output_type": "display_data"
    }
   ],
   "source": [
    "import urllib\n",
    "from bs4 import BeautifulSoup\n",
    "\n",
    "class trail(pym.curve):\n",
    "    def __init__(self, trail_name):\n",
    "        # first we have to download the trail off of postholer.com\n",
    "        trail_string = trail_name.replace(' ', '-')\n",
    "        url = 'http://www.postholer.com/databook/{trail}'.format(trail=trail_string)\n",
    "        page = urllib.urlopen(url)\n",
    "        pagestr = page.read()\n",
    "        self.soup = BeautifulSoup(pagestr, 'lxml')\n",
    "        # then we have to find the table with the mileage and elevation data\n",
    "        for table in self.soup.find_all(\"table\"):\n",
    "            for row in table.find_all(\"tr\"):\n",
    "                for cell in row.find_all(\"td\"):\n",
    "                    if cell.string == \"Elev\":\n",
    "                        self.table = table\n",
    "                        break\n",
    "        # then we read the mileage and elevation data into lists\n",
    "        mile = []\n",
    "        elev = []\n",
    "        for row in self.table.find_all(\"tr\")[1:]:\n",
    "            mile.extend([float(row.find_all(\"td\")[1].string)])\n",
    "            elev.extend([float(row.find_all(\"td\")[5].string)])\n",
    "        # finally, we initalize the parent class ``curve`` of this object with the data downloaded\n",
    "        # and the name\n",
    "        super(trail, self).__init__(mile, elev, name=trail_name)\n",
    "        \n",
    "# lets download three long distance western trails\n",
    "pct = trail('pacific crest trail')\n",
    "cdt = trail('continental divide trail')\n",
    "ct = trail('colorado trail')\n",
    "# now that we've initialized the ``trail``s, we can treat them as curves\n",
    "plot = pct.plot(linestyle='-', linecolor='#7299c6')\n",
    "plot = cdt.plot(linestyle='-', linecolor='#baa892', addto=plot)\n",
    "plot = ct.plot(linestyle=\"-\", linecolor='#3f4b00', addto=plot)\n",
    "plot.xlabel(\"Miles since trail start ($s$) [$\\unit{mi}$]\")\n",
    "plot.ylabel(\"Elevation ($E$) [$\\unit{ft}$]\")\n",
    "plot.lines_on()\n",
    "plot.markers_off()\n",
    "plot.ylim(0, 12000)\n",
    "plot.legend(loc=2)\n",
    "plot.export('_static/trail_elevations')\n",
    "plot.show('First section elevation of several long distance hiking trails')"
   ]
  },
  {
   "cell_type": "markdown",
   "metadata": {
    "deletable": true,
    "editable": true
   },
   "source": [
    "## Fitting\n",
    "\n",
    "``pym`` has a quick interface for fitting functions to its curves, and then plotting these."
   ]
  },
  {
   "cell_type": "code",
   "execution_count": null,
   "metadata": {
    "collapsed": true,
    "deletable": true,
    "editable": true
   },
   "outputs": [],
   "source": [
    "# coming soon"
   ]
  },
  {
   "cell_type": "markdown",
   "metadata": {
    "deletable": true,
    "editable": true
   },
   "source": [
    "## Interpolation and error propagation\n",
    "\n",
    "``pym`` uses a linear interpolation backend to make its curve objects continuous, and it also propagates the error throughout when operations are performed on it."
   ]
  },
  {
   "cell_type": "code",
   "execution_count": null,
   "metadata": {
    "collapsed": true,
    "deletable": true,
    "editable": true
   },
   "outputs": [],
   "source": [
    "# coming soon"
   ]
  }
 ],
 "metadata": {
  "hide_input": false,
  "kernelspec": {
   "display_name": "Python 2",
   "language": "python",
   "name": "python2"
  },
  "language_info": {
   "codemirror_mode": {
    "name": "ipython",
    "version": 2
   },
   "file_extension": ".py",
   "mimetype": "text/x-python",
   "name": "python",
   "nbconvert_exporter": "python",
   "pygments_lexer": "ipython2",
   "version": "2.7.12"
  },
  "latex_envs": {
   "LaTeX_envs_menu_present": true,
   "autocomplete": true,
   "bibliofile": "bibs/dissertation.bib",
   "cite_by": "apalike",
   "current_citInitial": 1,
   "eqLabelWithNumbers": true,
   "eqNumInitial": 1,
   "hotkeys": {
    "equation": "Ctrl-E",
    "itemize": "Ctrl-I"
   },
   "labels_anchors": false,
   "latex_user_defs": false,
   "report_style_numbering": false,
   "user_envs_cfg": false
  }
 },
 "nbformat": 4,
 "nbformat_minor": 2
}
